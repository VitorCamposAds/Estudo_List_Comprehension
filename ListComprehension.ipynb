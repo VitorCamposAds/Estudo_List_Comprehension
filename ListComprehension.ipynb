{
  "nbformat": 4,
  "nbformat_minor": 0,
  "metadata": {
    "colab": {
      "provenance": []
    },
    "kernelspec": {
      "name": "python3",
      "display_name": "Python 3"
    },
    "language_info": {
      "name": "python"
    }
  },
  "cells": [
    {
      "cell_type": "markdown",
      "source": [
        "# List Comprehension - O que é e qual a importância?\n",
        "\n",
        "- List Comprehension é uma forma de iterar pelos elementos das listas.\n",
        "- Em resumo: é como se você fizesse um \\\"for\\\" em 1 linha de código.\n"
      ],
      "metadata": {
        "id": "fURjKTJg7Hq8"
      }
    },
    {
      "cell_type": "markdown",
      "source": [
        "Estrutura: lista = [expressão for item in iterable]"
      ],
      "metadata": {
        "id": "tnNuwLmT7Xho"
      }
    },
    {
      "cell_type": "code",
      "execution_count": null,
      "metadata": {
        "id": "2axPD1NL7DaS"
      },
      "outputs": [],
      "source": [
        "#Exemplo\n",
        "preco_produtos = [100, 150, 300, 5500]\n",
        "produtos = ['vinho', 'cafeiteira', 'microondas', 'iphone']"
      ]
    },
    {
      "cell_type": "markdown",
      "source": [
        "Digamos que o imposto sobre os produtos é de 30%, ou seja, 0.3. Como eu faria para criar uma lista com os valores de imposto de cada produto? Usando um for."
      ],
      "metadata": {
        "id": "9bZYnwQm7lEO"
      }
    },
    {
      "cell_type": "code",
      "source": [
        "impostos = []\n",
        "for item in preco_produtos:\n",
        "    impostos.append(item * 0.3)\n",
        "print(impostos)"
      ],
      "metadata": {
        "colab": {
          "base_uri": "https://localhost:8080/"
        },
        "id": "qOWYxhcE7pT1",
        "outputId": "317674cb-4aaf-4288-918e-8b075a56f621"
      },
      "execution_count": null,
      "outputs": [
        {
          "output_type": "stream",
          "name": "stdout",
          "text": [
            "[30.0, 45.0, 90.0, 1650.0]\n"
          ]
        }
      ]
    },
    {
      "cell_type": "code",
      "source": [
        "#Usando list comprehension\n",
        "impostos = [preco * 0.3 for preco in preco_produtos]\n",
        "print(impostos)"
      ],
      "metadata": {
        "colab": {
          "base_uri": "https://localhost:8080/"
        },
        "id": "cYfxNtrM761n",
        "outputId": "2f5c443c-e542-4cb3-8c8e-bace6c64686f"
      },
      "execution_count": null,
      "outputs": [
        {
          "output_type": "stream",
          "name": "stdout",
          "text": [
            "[30.0, 45.0, 90.0, 1650.0]\n"
          ]
        }
      ]
    },
    {
      "cell_type": "markdown",
      "source": [
        "A \"expressão\" na list comprehension também pode ser uma function:"
      ],
      "metadata": {
        "id": "b-3_-VIU8GoO"
      }
    },
    {
      "cell_type": "code",
      "source": [
        "def calcular_imposto(preco, imposto):\n",
        "    return preco * imposto\n",
        "\n",
        "impostos = [calcular_imposto(preco, 0.3) for preco in preco_produtos]\n",
        "print(impostos)"
      ],
      "metadata": {
        "colab": {
          "base_uri": "https://localhost:8080/"
        },
        "id": "POdz38_R8LYt",
        "outputId": "b542c596-1a12-4e5f-f6ac-9d5090d1458f"
      },
      "execution_count": null,
      "outputs": [
        {
          "output_type": "stream",
          "name": "stdout",
          "text": [
            "[30.0, 45.0, 90.0, 1650.0]\n"
          ]
        }
      ]
    },
    {
      "cell_type": "markdown",
      "source": [
        "Normalmente isso é usado quando queremos fazer uma única ação com os itens de uma lista. Não é obrigatório, mas é comum de encontrar principalmente com programadores mais experientes. Porém, cuidado, pois se a lista for MUITO grande, o list comprehension pode acabar sendo difícil de compilar. Nesses casos podemos usar funções, for tradicionais com breaks para interromper ou até bibliotecas como o Pandas que trabalha bem com dados."
      ],
      "metadata": {
        "id": "LS0_KgC98Ys3"
      }
    },
    {
      "cell_type": "markdown",
      "source": [
        "# Exemplo prático de List Comprehension\n",
        "\n",
        "O que faríamos se quisermos ordenar 2 listas relacionadas?"
      ],
      "metadata": {
        "id": "Tqihz-Ie-K42"
      }
    },
    {
      "cell_type": "code",
      "source": [
        "vendas_produtos = [1500, 150, 2100, 1950]\n",
        "produtos = ['Vinho', 'Cafeiteira', 'Microondas', 'Iphone']\n",
        "\n",
        "lista_aux = list(zip(vendas_produtos, produtos))#conectando as listas colocando o preço como referência\n",
        "lista_aux"
      ],
      "metadata": {
        "colab": {
          "base_uri": "https://localhost:8080/"
        },
        "id": "sP9yxvJE8V33",
        "outputId": "dbb064d5-77cd-4f29-ddd2-1060a6d57607"
      },
      "execution_count": null,
      "outputs": [
        {
          "output_type": "execute_result",
          "data": {
            "text/plain": [
              "[(1500, 'Vinho'), (150, 'Cafeiteira'), (2100, 'Microondas'), (1950, 'Iphone')]"
            ]
          },
          "metadata": {},
          "execution_count": 11
        }
      ]
    },
    {
      "cell_type": "code",
      "source": [
        "lista_aux.sort(reverse=True) #Ordenando a lista do maior valor para o menor valor\n",
        "lista_aux"
      ],
      "metadata": {
        "colab": {
          "base_uri": "https://localhost:8080/"
        },
        "id": "vTnI9kCQ_vaW",
        "outputId": "14a5599b-c61e-4d1c-e14a-808e3089a790"
      },
      "execution_count": null,
      "outputs": [
        {
          "output_type": "execute_result",
          "data": {
            "text/plain": [
              "[(2100, 'Microondas'), (1950, 'Iphone'), (1500, 'Vinho'), (150, 'Cafeiteira')]"
            ]
          },
          "metadata": {},
          "execution_count": 12
        }
      ]
    },
    {
      "cell_type": "markdown",
      "source": [
        "Unpacking das tuplas na lista de tuplas pegando somente o produto de forma ordenada começando pelo produto que mais vende."
      ],
      "metadata": {
        "id": "0Wc0E5eZAMXD"
      }
    },
    {
      "cell_type": "code",
      "source": [
        "produtos = [produto for vendas, produto in lista_aux]\n",
        "print(produtos)"
      ],
      "metadata": {
        "colab": {
          "base_uri": "https://localhost:8080/"
        },
        "id": "INxYzXjz_9oc",
        "outputId": "62ce366d-2991-4058-92ba-ae4a566502d9"
      },
      "execution_count": null,
      "outputs": [
        {
          "output_type": "stream",
          "name": "stdout",
          "text": [
            "['Microondas', 'Iphone', 'Vinho', 'Cafeiteira']\n"
          ]
        }
      ]
    },
    {
      "cell_type": "markdown",
      "source": [
        "# Exercícios\n",
        "\n",
        "1. Tirando informações de listas e dicionários:\n",
        "Supondo que você está analisando as vendas de produtos de uma empresa de varejo,\n",
        "a lista tem: (produto, vendas de 2019, vendas de 2020) para cada produto. Crie uma lista com as vendas de 2019.\n",
        "\n"
      ],
      "metadata": {
        "id": "AGwSweMPBNCH"
      }
    },
    {
      "cell_type": "code",
      "source": [
        "vendas_produtos = [('iphone', 558147, 951642), ('galaxy', 712350, 244295), ('ipad', 573823, 26964), ('tv', 405252, 787604), ('máquina de café', 718654, 867660), ('kindle', 531580, 78830), ('geladeira', 973139, 710331), ('adega', 892292, 646016), ('notebook dell', 422760, 694913), ('notebook hp', 154753, 539704), ('notebook asus', 887061, 324831), ('microsoft surface', 438508, 667179), ('webcam', 237467, 295633), ('caixa de som', 489705, 725316), ('microfone', 328311, 644622), ('câmera canon', 591120, 994303)]"
      ],
      "metadata": {
        "id": "WaFB_XrrBN5f"
      },
      "execution_count": null,
      "outputs": []
    },
    {
      "cell_type": "markdown",
      "source": [
        "Agora, qual o maior valor de vendas de 2019?"
      ],
      "metadata": {
        "id": "e2qZbTzLBxB5"
      }
    },
    {
      "cell_type": "code",
      "source": [
        "lista_vendas2019 = []\n",
        "\n",
        "for produto, vendas2019, vendas2020 in vendas_produtos:\n",
        "    lista_vendas2019.append(vendas2019)\n",
        "\n",
        "print(lista_vendas2019)"
      ],
      "metadata": {
        "colab": {
          "base_uri": "https://localhost:8080/"
        },
        "id": "tgt0rK72Bs_m",
        "outputId": "15ebbf61-574e-4cd9-cc4b-63ec04fd3909"
      },
      "execution_count": null,
      "outputs": [
        {
          "output_type": "stream",
          "name": "stdout",
          "text": [
            "[558147, 712350, 573823, 405252, 718654, 531580, 973139, 892292, 422760, 154753, 887061, 438508, 237467, 489705, 328311, 591120]\n"
          ]
        }
      ]
    },
    {
      "cell_type": "code",
      "source": [
        "#Fazendo a lógica acima usando list comprehension\n",
        "lista_vendas2019_2 = [vendas2019 for produto, vendas2019, vendas2020 in vendas_produtos]\n",
        "print(lista_vendas2019_2)"
      ],
      "metadata": {
        "colab": {
          "base_uri": "https://localhost:8080/"
        },
        "id": "ckdSEMwjCG4e",
        "outputId": "484317bc-a14f-42c3-eae5-0802b8315f9e"
      },
      "execution_count": null,
      "outputs": [
        {
          "output_type": "stream",
          "name": "stdout",
          "text": [
            "[558147, 712350, 573823, 405252, 718654, 531580, 973139, 892292, 422760, 154753, 887061, 438508, 237467, 489705, 328311, 591120]\n"
          ]
        }
      ]
    },
    {
      "cell_type": "markdown",
      "source": [
        "Qual o maior valor de vendas de 2019?"
      ],
      "metadata": {
        "id": "0tXSTUsMFQMU"
      }
    },
    {
      "cell_type": "code",
      "source": [
        "lista_vendas2019.sort(reverse=True)\n",
        "print(lista_vendas2019[0])"
      ],
      "metadata": {
        "colab": {
          "base_uri": "https://localhost:8080/"
        },
        "id": "bn_fU5csFSFp",
        "outputId": "f33c9c90-dff5-482c-df0c-960cac71c816"
      },
      "execution_count": null,
      "outputs": [
        {
          "output_type": "stream",
          "name": "stdout",
          "text": [
            "973139\n"
          ]
        }
      ]
    },
    {
      "cell_type": "markdown",
      "source": [
        "E se eu quisesse descobrir o produto que mais vendeu em 2019?"
      ],
      "metadata": {
        "id": "jMB3cRE9FyNN"
      }
    },
    {
      "cell_type": "code",
      "source": [
        "# Refazendo a list comprehension para criar uma lista com pares de produto e vendas de 2019\n",
        "lista_vendasprodutos2019 = [(vendas2019, produto) for produto, vendas2019, vendas2020 in vendas_produtos]#número como 1 item da tupla para que a função max seja sobre o número\n",
        "print(max(lista_vendasprodutos2019))"
      ],
      "metadata": {
        "colab": {
          "base_uri": "https://localhost:8080/"
        },
        "id": "HMk2ZZGMGYHX",
        "outputId": "70c22de7-d89c-4c0d-d6ad-9647e4fbc762"
      },
      "execution_count": null,
      "outputs": [
        {
          "output_type": "stream",
          "name": "stdout",
          "text": [
            "(973139, 'geladeira')\n"
          ]
        }
      ]
    },
    {
      "cell_type": "markdown",
      "source": [
        "Outra forma, talvez mais amigável à leitura:"
      ],
      "metadata": {
        "id": "wB6WQhMpH8Ny"
      }
    },
    {
      "cell_type": "code",
      "source": [
        "# Corrigindo a list comprehension para criar uma lista com pares de produto e vendas de 2019\n",
        "lista_vendas2019 = [(produto, vendas2019) for produto, vendas2019, vendas2020 in vendas_produtos]\n",
        "\n",
        "# Encontrando o produto que teve mais vendas em 2019 usando a função max()\n",
        "produto_mais_vendido_2019 = max(lista_vendas2019, key=lambda x: x[1])\n",
        "\n",
        "print(\"O produto que mais vendeu em 2019 foi:\", produto_mais_vendido_2019[0])"
      ],
      "metadata": {
        "colab": {
          "base_uri": "https://localhost:8080/"
        },
        "id": "a5A10xPCIAuI",
        "outputId": "132c2fcf-853a-4954-f7d9-a937119f9578"
      },
      "execution_count": null,
      "outputs": [
        {
          "output_type": "stream",
          "name": "stdout",
          "text": [
            "O produto que mais vendeu em 2019 foi: geladeira\n"
          ]
        }
      ]
    },
    {
      "cell_type": "markdown",
      "source": [
        " A função lambda lambda x: x[1] está definindo uma função que recebe um argumento x (neste caso, uma tupla) e retorna x[1]. Isso significa que a função lambda extrai o segundo elemento (x[1]) de cada tupla passada para ela.\n",
        "\n",
        "Então, ao usar max(lista_vendas2019, key=lambda x: x[1]), a função max() irá comparar os elementos da lista lista_vendas2019, mas ao invés de comparar as tuplas inteiras, ela compara apenas o segundo elemento de cada tupla (ou seja, as vendas de 2019), encontrando a tupla com o maior valor nesse segundo elemento.\n",
        "\n",
        "Essa é uma maneira de especificar um critério personalizado para determinar o máximo ou mínimo em uma lista de acordo com um determinado aspecto dos elementos, nesse caso, com base nas vendas de 2019."
      ],
      "metadata": {
        "id": "VaTabXKVKPWo"
      }
    },
    {
      "cell_type": "markdown",
      "source": [
        "# List Comprehensions com if para filtragem\n",
        "\n",
        "Estrutura: lista = [expressão for item in iterable if condicao]\n"
      ],
      "metadata": {
        "id": "C8bMJ_VCNbhA"
      }
    },
    {
      "cell_type": "markdown",
      "source": [
        "Crie uma lista de produtos que bateram a meta."
      ],
      "metadata": {
        "id": "IFF934AJNwmU"
      }
    },
    {
      "cell_type": "code",
      "source": [
        "meta = 1000\n",
        "vendas_produtos = [1500, 150, 2100, 1950]\n",
        "produtos = ['vinho', 'cafeiteira', 'microondas', 'iphone']"
      ],
      "metadata": {
        "id": "kQHHzLIvNtCd"
      },
      "execution_count": null,
      "outputs": []
    },
    {
      "cell_type": "markdown",
      "source": [
        "Fazendo por For tradicional"
      ],
      "metadata": {
        "id": "zh8vJy4HONy4"
      }
    },
    {
      "cell_type": "code",
      "source": [
        "produtos_acima_meta = []\n",
        "\n",
        "for i, produto in enumerate(produtos):\n",
        "    if vendas_produtos[i] > meta:\n",
        "        produtos_acima_meta.append(produto)\n",
        "\n",
        "print(produtos_acima_meta)"
      ],
      "metadata": {
        "colab": {
          "base_uri": "https://localhost:8080/"
        },
        "id": "a62HcQAoOOfK",
        "outputId": "a456c725-4736-43d2-86b6-78aec8bcd368"
      },
      "execution_count": null,
      "outputs": [
        {
          "output_type": "stream",
          "name": "stdout",
          "text": [
            "['vinho', 'microondas', 'iphone']\n"
          ]
        }
      ]
    },
    {
      "cell_type": "markdown",
      "source": [
        "Fazendo por list comprehension"
      ],
      "metadata": {
        "id": "NW8Srx56Ovw6"
      }
    },
    {
      "cell_type": "code",
      "source": [
        "produtos_acima_meta = [produto for i, produto in enumerate(produtos) if vendas_produtos[i] > meta]\n",
        "print(produtos_acima_meta)"
      ],
      "metadata": {
        "colab": {
          "base_uri": "https://localhost:8080/"
        },
        "id": "v6semr84Owgh",
        "outputId": "f3b870fe-b574-47f2-acd5-e909e755614b"
      },
      "execution_count": null,
      "outputs": [
        {
          "output_type": "stream",
          "name": "stdout",
          "text": [
            "['vinho', 'microondas', 'iphone']\n"
          ]
        }
      ]
    },
    {
      "cell_type": "markdown",
      "source": [
        "# Exercício\n",
        "\n",
        "Filtrar lista de clientes inadimplentes.\n",
        "\n",
        "- O objetivo é identificar quem são os clientes inadimplentes e enviar essa lista de clientes para o setor de cobrança poder fazer a cobrança dos clientes.\n",
        "- Queremos então criar uma lista com os clientes inadimplentes (apenas o CPF e o valor que eles estão devendo)\n",
        "- A inadimplência nessa empresa é calculada da seguinte forma:\n",
        "    1. Se o cliente tiver devendo há mais de 20 dias, ele é considerado inadimplente.\n",
        "    2. As informações vêm no formato (cpf, valor_devido, qtde de dias)\n"
      ],
      "metadata": {
        "id": "oVD-6mGBUeh3"
      }
    },
    {
      "cell_type": "markdown",
      "source": [
        "Se eu tenho um dicionário, uma lista de tuplas, uma lista ou uma tupla cuja a intenção é fazer um filtro (criar uma outra lista da lista original), usa-se list comprehension"
      ],
      "metadata": {
        "id": "jv1Rf2yzVKYN"
      }
    },
    {
      "cell_type": "code",
      "source": [
        "clientes_devedores = [('462.286.561-65',14405,24),('251.569.170-81',16027,1),('297.681.579-21',8177,28),('790.223.154-40',9585,10),('810.442.219-10',18826,29),('419.210.299-79',11421,15),('908.507.760-43',12445,24),('911.238.364-17',1345,4),('131.115.339-28',11625,8),('204.169.467-27',5364,22),('470.806.376-11',932,29),('938.608.980-69',13809,19),('554.684.165-26',11227,2),('119.225.846-34',4475,9),('358.890.858-95',13932,20),('786.547.940-70',17048,25),('468.487.741-94',2902,8),('540.685.100-32',5806,21),('379.729.796-80',7622,24),('980.173.363-94',13167,24),('833.285.374-56',19581,24),('103.669.436-50',17126,4),('386.836.124-46',18825,11),('588.404.964-15',1545,30),('600.556.177-18',1921,7),('670.346.230-99',18079,28),('771.352.915-13',16581,23),('430.314.324-46',13942,24),('629.507.759-51',17951,11),('348.683.225-73',12424,10),('406.133.151-17',5888,30),('310.985.894-64',17316,30),('964.317.132-30',18818,30),('845.331.524-14',14284,13),('781.995.738-18',19369,29),('921.558.128-63',3206,27),('941.386.982-65',10228,26),('551.135.290-10',18822,18),('537.124.578-35',12670,6),('119.383.169-76',790,20),('938.473.410-98',8851,5),('279.775.182-54',5212,20),('210.872.954-53',13569,8),('684.995.531-65',8649,21),('653.886.282-57',504,28),('973.580.738-53',2533,9),('285.864.892-85',8200,21),('777.154.423-98',10336,8),('769.786.401-34',3233,12),('521.566.565-97',11882,14),('491.799.681-92',653,8),('344.357.819-36',8856,18),('265.362.581-99',8962,8),('331.410.527-56',18516,18),('143.188.958-61',7234,29),('751.630.472-61',13552,6),('714.707.807-80',2898,7),('585.584.932-83',239,25),('165.554.107-13',9572,23),('718.225.984-87',10534,25),('611.715.653-32',3210,11),('397.994.286-79',13651,24),('967.160.575-69',8997,25),('369.750.998-94',13952,2),('767.400.554-79',18320,11),('171.104.286-74',5821,21),('152.817.649-24',3358,30),('645.308.846-62',15176,25),('273.884.570-92',4436,13),('888.818.341-45',15730,3),('577.836.712-40',14670,16),('513.529.919-95',4002,1),('201.476.809-95',17442,21),('657.816.571-87',1582,2),('810.494.975-87',2157,9),('531.749.410-17',12355,18),('486.290.887-24',18576,26),('432.376.642-62',8027,23),('207.274.437-91',5125,29),('634.244.673-72',11387,15),('346.871.172-72',8105,23),('166.330.605-50',7865,11),('829.181.731-94',2425,8),('197.305.464-63',9681,8),('887.877.706-59',15681,10),('847.598.885-51',323,23),('817.170.984-26',5169,27),('591.397.550-29',13362,25),('872.733.198-95',5756,18),('615.629.238-82',11678,23),('194.782.846-77',11044,17),('146.392.158-88',6848,4),('240.427.458-70',3906,25),('583.662.427-52',3306,5),('841.627.523-64',4778,4),('985.337.216-77',15308,4),('912.410.722-57',11683,6),('700.720.266-23',12638,21),('605.405.529-53',3831,3),('383.256.402-25',2599,10),('248.103.486-68',9121,1),('261.974.594-90',2139,26),('297.126.704-91',18529,16),('680.569.318-52',10176,23),('296.334.647-38',225,13),('200.761.898-70',16244,20),('258.232.687-17',19462,18),('597.295.672-38',18840,11),('894.479.102-52',11375,12),('556.156.341-36',16269,23),('987.874.553-86',11253,17),('248.927.998-94',6510,1),('852.796.660-25',2662,23),('741.370.204-36',9303,16),('536.714.951-95',2877,23),('320.395.830-44',14554,5),('520.645.562-80',17547,24),('553.700.674-28',3147,14),('913.525.896-32',17651,28),('750.456.495-86',11524,9),('246.171.748-38',15184,4),('760.248.897-67',4953,25),('920.890.990-46',17172,20),('805.469.913-50',17500,21),('878.594.225-48',6255,3),('356.715.924-36',3454,13),('847.150.802-96',8602,22),('625.846.640-53',10888,19),('539.300.108-41',11225,21),('549.151.467-76',1286,21),('738.451.908-29',18905,22),('987.288.834-69',17533,25),('898.532.296-94',9719,11),('620.531.607-13',13584,10),('169.415.202-43',1871,29),('757.885.355-97',18150,28),('252.581.376-21',2497,3),('177.937.460-78',7178,8),('523.895.611-54',9878,26),('883.680.201-23',16761,3),('936.678.268-71',11017,9),('871.912.703-73',1754,9),('957.749.478-56',6914,9),('725.636.354-80',8605,13),('898.316.244-33',14363,12),('894.748.325-28',2764,3),('647.106.954-60',1482,6),('628.716.937-98',14107,8),('332.677.483-83',19146,15),('186.870.928-82',17050,12),('216.248.879-71',4384,16),('287.929.269-44',4894,19),('278.335.932-42',17220,13),('824.107.287-13',11797,7),('535.354.954-30',9195,22),('311.762.241-12',13871,2),('209.759.133-88',13580,21),('505.728.766-53',16950,13),('879.471.988-23',17427,14),('772.329.947-39',3462,8),('321.123.241-10',2592,22),('407.342.963-78',11435,21),('786.935.637-47',14240,9),('461.791.351-55',142,2),('770.920.161-42',1247,24),('639.870.185-59',6430,10),('815.943.237-83',19550,22),('141.774.255-61',17866,13),('379.995.400-37',9503,29),('261.103.178-64',19167,13),('495.461.913-57',12265,29),('498.848.750-79',14549,16),('578.770.731-84',1462,5),('408.987.269-72',5647,28),('191.970.336-40',6313,15),('761.137.848-34',10654,23),('810.512.154-21',14928,1),('256.371.788-38',7085,2),('216.401.188-57',1531,23),('956.318.620-43',6327,22),('986.516.478-33',3866,25),('105.665.555-60',7118,4),('259.228.430-72',1601,8),('133.627.971-58',10142,14),('327.988.845-70',14985,23),('363.167.322-63',17236,7),('189.986.406-38',16888,18),('661.194.373-45',7824,1),('805.728.877-53',514,10),('887.826.412-21',15977,24),('122.975.174-32',9409,25),('456.550.370-55',19922,18),('388.243.133-66',19785,17),('208.788.890-61',11893,22),('881.332.662-49',6344,16),('912.349.944-52',6858,15),('534.904.583-32',9559,11),('825.175.334-25',19805,15),('339.191.298-46',13325,8),('569.993.915-78',4339,15)]"
      ],
      "metadata": {
        "id": "9TcbBaykVJhg"
      },
      "execution_count": null,
      "outputs": []
    },
    {
      "cell_type": "markdown",
      "source": [
        "Prodedimento com for:"
      ],
      "metadata": {
        "id": "6XuBFrmkV3m_"
      }
    },
    {
      "cell_type": "code",
      "source": [
        "clientes_inadimplentes = []\n",
        "for cpf, valor, dias in clientes_devedores:\n",
        "    if dias > 20:\n",
        "        clientes_inadimplentes.append(cpf)\n",
        "print(clientes_inadimplentes)"
      ],
      "metadata": {
        "colab": {
          "base_uri": "https://localhost:8080/"
        },
        "id": "t_E472NoVo_8",
        "outputId": "93a2da21-b861-4abf-a578-3cf0ff2c31aa"
      },
      "execution_count": null,
      "outputs": [
        {
          "output_type": "stream",
          "name": "stdout",
          "text": [
            "['462.286.561-65', '297.681.579-21', '810.442.219-10', '908.507.760-43', '204.169.467-27', '470.806.376-11', '786.547.940-70', '540.685.100-32', '379.729.796-80', '980.173.363-94', '833.285.374-56', '588.404.964-15', '670.346.230-99', '771.352.915-13', '430.314.324-46', '406.133.151-17', '310.985.894-64', '964.317.132-30', '781.995.738-18', '921.558.128-63', '941.386.982-65', '684.995.531-65', '653.886.282-57', '285.864.892-85', '143.188.958-61', '585.584.932-83', '165.554.107-13', '718.225.984-87', '397.994.286-79', '967.160.575-69', '171.104.286-74', '152.817.649-24', '645.308.846-62', '201.476.809-95', '486.290.887-24', '432.376.642-62', '207.274.437-91', '346.871.172-72', '847.598.885-51', '817.170.984-26', '591.397.550-29', '615.629.238-82', '240.427.458-70', '700.720.266-23', '261.974.594-90', '680.569.318-52', '556.156.341-36', '852.796.660-25', '536.714.951-95', '520.645.562-80', '913.525.896-32', '760.248.897-67', '805.469.913-50', '847.150.802-96', '539.300.108-41', '549.151.467-76', '738.451.908-29', '987.288.834-69', '169.415.202-43', '757.885.355-97', '523.895.611-54', '535.354.954-30', '209.759.133-88', '321.123.241-10', '407.342.963-78', '770.920.161-42', '815.943.237-83', '379.995.400-37', '495.461.913-57', '408.987.269-72', '761.137.848-34', '216.401.188-57', '956.318.620-43', '986.516.478-33', '327.988.845-70', '887.826.412-21', '122.975.174-32', '208.788.890-61']\n",
            "78\n",
            "78\n",
            "200\n"
          ]
        }
      ]
    },
    {
      "cell_type": "markdown",
      "source": [
        "List Comprehension"
      ],
      "metadata": {
        "id": "vszNH1z5WXzl"
      }
    },
    {
      "cell_type": "code",
      "source": [
        "clientes_inadimplentes2 = [cpf for cpf, valor, dias in clientes_devedores if dias > 20]\n",
        "clientes_inadimplentes2"
      ],
      "metadata": {
        "colab": {
          "base_uri": "https://localhost:8080/"
        },
        "id": "7ObWLnIWWWWV",
        "outputId": "46a6c12a-f5b2-4206-9ecc-4a33e956399f"
      },
      "execution_count": null,
      "outputs": [
        {
          "output_type": "execute_result",
          "data": {
            "text/plain": [
              "['462.286.561-65',\n",
              " '297.681.579-21',\n",
              " '810.442.219-10',\n",
              " '908.507.760-43',\n",
              " '204.169.467-27',\n",
              " '470.806.376-11',\n",
              " '786.547.940-70',\n",
              " '540.685.100-32',\n",
              " '379.729.796-80',\n",
              " '980.173.363-94',\n",
              " '833.285.374-56',\n",
              " '588.404.964-15',\n",
              " '670.346.230-99',\n",
              " '771.352.915-13',\n",
              " '430.314.324-46',\n",
              " '406.133.151-17',\n",
              " '310.985.894-64',\n",
              " '964.317.132-30',\n",
              " '781.995.738-18',\n",
              " '921.558.128-63',\n",
              " '941.386.982-65',\n",
              " '684.995.531-65',\n",
              " '653.886.282-57',\n",
              " '285.864.892-85',\n",
              " '143.188.958-61',\n",
              " '585.584.932-83',\n",
              " '165.554.107-13',\n",
              " '718.225.984-87',\n",
              " '397.994.286-79',\n",
              " '967.160.575-69',\n",
              " '171.104.286-74',\n",
              " '152.817.649-24',\n",
              " '645.308.846-62',\n",
              " '201.476.809-95',\n",
              " '486.290.887-24',\n",
              " '432.376.642-62',\n",
              " '207.274.437-91',\n",
              " '346.871.172-72',\n",
              " '847.598.885-51',\n",
              " '817.170.984-26',\n",
              " '591.397.550-29',\n",
              " '615.629.238-82',\n",
              " '240.427.458-70',\n",
              " '700.720.266-23',\n",
              " '261.974.594-90',\n",
              " '680.569.318-52',\n",
              " '556.156.341-36',\n",
              " '852.796.660-25',\n",
              " '536.714.951-95',\n",
              " '520.645.562-80',\n",
              " '913.525.896-32',\n",
              " '760.248.897-67',\n",
              " '805.469.913-50',\n",
              " '847.150.802-96',\n",
              " '539.300.108-41',\n",
              " '549.151.467-76',\n",
              " '738.451.908-29',\n",
              " '987.288.834-69',\n",
              " '169.415.202-43',\n",
              " '757.885.355-97',\n",
              " '523.895.611-54',\n",
              " '535.354.954-30',\n",
              " '209.759.133-88',\n",
              " '321.123.241-10',\n",
              " '407.342.963-78',\n",
              " '770.920.161-42',\n",
              " '815.943.237-83',\n",
              " '379.995.400-37',\n",
              " '495.461.913-57',\n",
              " '408.987.269-72',\n",
              " '761.137.848-34',\n",
              " '216.401.188-57',\n",
              " '956.318.620-43',\n",
              " '986.516.478-33',\n",
              " '327.988.845-70',\n",
              " '887.826.412-21',\n",
              " '122.975.174-32',\n",
              " '208.788.890-61']"
            ]
          },
          "metadata": {},
          "execution_count": 45
        }
      ]
    },
    {
      "cell_type": "markdown",
      "source": [
        "Conferência do tamanho das listas para os resultados com comprenção de lista e com o laço for:"
      ],
      "metadata": {
        "id": "NnASsvG2XDw6"
      }
    },
    {
      "cell_type": "code",
      "source": [
        "print(len(clientes_inadimplentes2))\n",
        "print(len(clientes_inadimplentes))"
      ],
      "metadata": {
        "colab": {
          "base_uri": "https://localhost:8080/"
        },
        "id": "eXQsGPETXAuq",
        "outputId": "f9fbfc89-e5b7-478b-a2c1-200c7f42481f"
      },
      "execution_count": null,
      "outputs": [
        {
          "output_type": "stream",
          "name": "stdout",
          "text": [
            "78\n",
            "78\n"
          ]
        }
      ]
    },
    {
      "cell_type": "markdown",
      "source": [
        "Conferindo o tamanho da lista original para checar se foi filtrada:"
      ],
      "metadata": {
        "id": "1At_0X2BXeJ3"
      }
    },
    {
      "cell_type": "code",
      "source": [
        "print(len(clientes_devedores))"
      ],
      "metadata": {
        "colab": {
          "base_uri": "https://localhost:8080/"
        },
        "id": "q0VtVg6xXjbK",
        "outputId": "960c1a37-da92-43d4-ed39-ebf4e5f2d200"
      },
      "execution_count": null,
      "outputs": [
        {
          "output_type": "stream",
          "name": "stdout",
          "text": [
            "200\n"
          ]
        }
      ]
    },
    {
      "cell_type": "markdown",
      "source": [
        "# List Comprehension com if para escolher o resultado final\n",
        "\n",
        "Estrutura: lista = [item if condicao else outro_resultado for item in iterable]\n",
        "\n",
        "Suponha que você esteja analisando os vendedores de uma loja e queira criar uma lista para enviar para o RH com o bônus de cada vendedor: - \"o bônus é dado por 10% do valor de vendas dele, caso ele tenha batido a meta\"."
      ],
      "metadata": {
        "id": "SpY1DQyoX-Jx"
      }
    },
    {
      "cell_type": "code",
      "source": [
        "vendedores_dic = {'Maria': 1200, 'José': 300, 'Antônio': 800, 'João': 1500, 'Francisco': 1900, 'Ana': 2750, 'Luiz': 400, 'Paulo': 20, 'Carlos': 23, 'Manoel': 70, 'Pedro': 90, 'Francisca': 80, 'Marcos': 1100, 'Raimundo': 999, 'Sebastião': 900, 'Antônia': 880, 'Marcelo': 870, 'Jorge': 50, 'Márcia': 1111, 'Geraldo': 120, 'Adriana': 300, 'Sandra': 450, 'Luis': 800}\n",
        "meta = 1000"
      ],
      "metadata": {
        "id": "t0-b5ATZX_RD"
      },
      "execution_count": null,
      "outputs": []
    },
    {
      "cell_type": "markdown",
      "source": [
        "Fazendo com for"
      ],
      "metadata": {
        "id": "l5LDCUo4YfRy"
      }
    },
    {
      "cell_type": "code",
      "source": [
        "bonus = []\n",
        "for item in vendedores_dic:\n",
        "    if vendedores_dic[item] > meta:\n",
        "        bonus.append(vendedores_dic[item] * 0.1)\n",
        "    else:\n",
        "        bonus.append(0)\n",
        "\n",
        "print(bonus)"
      ],
      "metadata": {
        "colab": {
          "base_uri": "https://localhost:8080/"
        },
        "id": "UmaaYfSPYZf1",
        "outputId": "95ccddb2-022e-4632-949c-b20de5bf5c31"
      },
      "execution_count": null,
      "outputs": [
        {
          "output_type": "stream",
          "name": "stdout",
          "text": [
            "[120.0, 0, 0, 150.0, 190.0, 275.0, 0, 0, 0, 0, 0, 0, 110.0, 0, 0, 0, 0, 0, 111.10000000000001, 0, 0, 0, 0]\n"
          ]
        }
      ]
    },
    {
      "cell_type": "markdown",
      "source": [
        "Fazendo por List Comprehension"
      ],
      "metadata": {
        "id": "VtYDp-jkYw8w"
      }
    },
    {
      "cell_type": "code",
      "source": [
        "bonus = [vendedores_dic[item] * 0.1 if vendedores_dic[item] > meta else 0 for item in vendedores_dic]\n",
        "print(bonus)"
      ],
      "metadata": {
        "colab": {
          "base_uri": "https://localhost:8080/"
        },
        "id": "2F2VQttTYwd0",
        "outputId": "26ece45e-a82a-4475-c086-79ce3a4a723b"
      },
      "execution_count": null,
      "outputs": [
        {
          "output_type": "stream",
          "name": "stdout",
          "text": [
            "[120.0, 0, 0, 150.0, 190.0, 275.0, 0, 0, 0, 0, 0, 0, 110.0, 0, 0, 0, 0, 0, 111.10000000000001, 0, 0, 0, 0]\n"
          ]
        }
      ]
    },
    {
      "cell_type": "markdown",
      "source": [
        "# Exercício - Tamanho do Pedido de Compras\n",
        "\n",
        "Nesse exercício vamos avaliar o estoque de uma empresa. Vamos considerar que todos os produtos dessa empresa são comprados em lotes de 500 unidades.\n",
        "\n",
        "- Caso o estoque esteja abaixo de 1000 unidades, devemos fazer um pedido de 500 unidades.\n",
        "- Caso o estoque esteja abaixo de 200 unidades, devemos fazer um pedido de 1000 unidades.\n",
        "\n",
        "Defina o valor a ser pedido de cada produto para enviar ao time de compras.\n",
        "\n",
        "\n"
      ],
      "metadata": {
        "id": "-lEKtJI5a_dk"
      }
    },
    {
      "cell_type": "code",
      "source": [
        "estoque = [('BSA2199',396),('PPF5239',251),('BSA1212',989),('PPF2154',449),('BEB3410',241),('PPF8999',527),('EMB9591',601),('BSA2006',314),('EMB3604',469),('EMB2070',733),('PPF9018',339),('PPF1468',906),('BSA5819',291),('PPF8666',850),('BEB2983',353),('BEB5877',456),('PPF5008',963),('PPF3877',185),('PPF7321',163),('BSA8833',644),('PPF4980',421),('PPF3063',757),('BSA2089',271),('BSA8398',180),('EMB4622',515),('EMB9814',563),('PPF3784',229),('PPF2398',270),('BEB3211',181),('PPF8655',459),('PPF1874',799),('PPF8789',126),('PPF6324',375),('EMB9290',883),('BSA5516',555),('BSA8451',243),('BSA8213',423)]"
      ],
      "metadata": {
        "id": "qNvVsMilbNVA"
      },
      "execution_count": null,
      "outputs": []
    },
    {
      "cell_type": "markdown",
      "source": [
        "Primeiro com o for:"
      ],
      "metadata": {
        "id": "3PoMXMVnbf6L"
      }
    },
    {
      "cell_type": "code",
      "source": [
        "lista_pedido = []\n",
        "for produto, qtde in estoque:\n",
        "    if qtde < 200:\n",
        "        lista_pedido.append(1000)\n",
        "    else:\n",
        "        lista_pedido.append(500)\n",
        "print(lista_pedido)"
      ],
      "metadata": {
        "colab": {
          "base_uri": "https://localhost:8080/"
        },
        "id": "4-6Vt2nUbUe4",
        "outputId": "591bd85c-228f-47bc-eac7-31aa5b6950e0"
      },
      "execution_count": null,
      "outputs": [
        {
          "output_type": "stream",
          "name": "stdout",
          "text": [
            "[500, 500, 500, 500, 500, 500, 500, 500, 500, 500, 500, 500, 500, 500, 500, 500, 500, 1000, 1000, 500, 500, 500, 500, 1000, 500, 500, 500, 500, 1000, 500, 500, 1000, 500, 500, 500, 500, 500]\n"
          ]
        }
      ]
    },
    {
      "cell_type": "markdown",
      "source": [
        "Agora com List Comprehension:"
      ],
      "metadata": {
        "id": "aTkuzivCbkjf"
      }
    },
    {
      "cell_type": "code",
      "source": [
        "lista_pedido2 = [1000 if qtde < 200 else 500 for produto, qtde in estoque]\n",
        "print(lista_pedido2)"
      ],
      "metadata": {
        "colab": {
          "base_uri": "https://localhost:8080/"
        },
        "id": "VYlTmAx5bp26",
        "outputId": "13abdc04-19eb-4100-c30d-b9d122206614"
      },
      "execution_count": null,
      "outputs": [
        {
          "output_type": "stream",
          "name": "stdout",
          "text": [
            "[500, 500, 500, 500, 500, 500, 500, 500, 500, 500, 500, 500, 500, 500, 500, 500, 500, 1000, 1000, 500, 500, 500, 500, 1000, 500, 500, 500, 500, 1000, 500, 500, 1000, 500, 500, 500, 500, 500]\n"
          ]
        }
      ]
    },
    {
      "cell_type": "markdown",
      "source": [
        "List Comprehension não serve só para criar uma lista, serve para qualquer ação em iterable. Exemplo:\n",
        "\n",
        "- Vamos calcular quantos % das vendas o meu top 5 produtos representa das vendas totais."
      ],
      "metadata": {
        "id": "Fubvs2x9dfaw"
      }
    },
    {
      "cell_type": "code",
      "source": [
        "produtos = ['coca', 'pepsi', 'guarana', 'skol', 'brahma', 'agua', 'del valle', 'dolly', 'red bull', 'cachaça', 'vinho tinto', 'vodka', 'vinho branco', 'tequila', 'champagne', 'gin', 'guaracamp', 'matte', 'leite de castanha', 'leite', 'jurupinga', 'sprite', 'fanta']\n",
        "vendas = [1200, 300, 800, 1500, 1900, 2750, 400, 20, 23, 70, 90, 80, 1100, 999, 900, 880, 870, 50, 1111, 120, 300, 450, 800]\n",
        "top5 = ['agua', 'brahma', 'skol', 'coca', 'leite de castanha']"
      ],
      "metadata": {
        "id": "_6xpXgUzdrif"
      },
      "execution_count": null,
      "outputs": []
    },
    {
      "cell_type": "markdown",
      "source": [
        "Fazendo por for:"
      ],
      "metadata": {
        "id": "UUKH5CVPd6Vh"
      }
    },
    {
      "cell_type": "code",
      "source": [
        "total_top5 = 0\n",
        "for i, produto in enumerate(produtos):\n",
        "    if produto in top5:\n",
        "        total_top5 += vendas[i]\n",
        "\n",
        "print(f\"O total de top 5 produtos mais vendidos é: {total_top5}.\")\n",
        "print('Top 5 representou {:0.1%} das vendas!'.format(total_top5 / sum(vendas)))"
      ],
      "metadata": {
        "colab": {
          "base_uri": "https://localhost:8080/"
        },
        "id": "Re9tSDqId5tK",
        "outputId": "d6a40b63-f56f-4d53-95f4-c254c10a57a6"
      },
      "execution_count": null,
      "outputs": [
        {
          "output_type": "stream",
          "name": "stdout",
          "text": [
            "O total de top 5 produtos mais vendidos é: 8461.\n",
            "Top 5 representou 50.6% das vendas!\n"
          ]
        }
      ]
    },
    {
      "cell_type": "markdown",
      "source": [
        "Fazendo por list comprehension:"
      ],
      "metadata": {
        "id": "iyYmDfhdeOxV"
      }
    },
    {
      "cell_type": "code",
      "source": [
        "total_top5 = sum(vendas[i] for i, produto in enumerate(produtos) if produto in top5)\n",
        "print(f\"O total de top 5 produtos mais vendidos é: {total_top5}.\")\n",
        "print('Top 5 representou {:0.1%} das vendas!'.format(total_top5 / sum(vendas)))"
      ],
      "metadata": {
        "colab": {
          "base_uri": "https://localhost:8080/"
        },
        "id": "t3_HIP92eQAw",
        "outputId": "4b8e82d9-89d7-453f-e566-e76e2fab5dfa"
      },
      "execution_count": null,
      "outputs": [
        {
          "output_type": "stream",
          "name": "stdout",
          "text": [
            "O total de top 5 produtos mais vendidos é: 8461\n",
            "Top 5 representou 50.6% das vendas!\n"
          ]
        }
      ]
    }
  ]
}